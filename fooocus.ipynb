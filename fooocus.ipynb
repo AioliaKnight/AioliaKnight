{
  "nbformat": 4,
  "nbformat_minor": 0,
  "metadata": {
    "colab": {
      "provenance": [],
      "gpuType": "T4",
      "authorship_tag": "ABX9TyOjy2irQyABIFvOfE7VeLux",
      "include_colab_link": true
    },
    "kernelspec": {
      "name": "python3",
      "display_name": "Python 3"
    },
    "language_info": {
      "name": "python"
    },
    "accelerator": "GPU"
  },
  "cells": [
    {
      "cell_type": "markdown",
      "metadata": {
        "id": "view-in-github",
        "colab_type": "text"
      },
      "source": [
        "<a href=\"https://colab.research.google.com/github/AioliaKnight/AioliaKnight/blob/main/fooocus.ipynb\" target=\"_parent\"><img src=\"https://colab.research.google.com/assets/colab-badge.svg\" alt=\"Open In Colab\"/></a>"
      ]
    },
    {
      "cell_type": "code",
      "source": [
        "from google.colab import drive\n",
        "drive.mount('/content/drive')\n",
        "%cd /content/drive/MyDrive/ui-colab/\n",
        "!git clone https://github.com/lllyasviel/Fooocus.git\n",
        "%cd /content/drive/MyDrive/ui-colab/Fooocus\n",
        "!pip install pygit2==1.12.2\n",
        "%cd /content/drive/MyDrive/ui-colab/Fooocus\n",
        "!python entry_with_update.py --share"
      ],
      "metadata": {
        "id": "8IOiQGrDMewt"
      },
      "execution_count": null,
      "outputs": []
    },
    {
      "cell_type": "code",
      "execution_count": null,
      "metadata": {
        "id": "hdgMq5_5Ltsg"
      },
      "outputs": [],
      "source": [
        "from google.colab import drive\n",
        "drive.mount('/content/drive')\n",
        "!git clone https://github.com/MoonRide303/Fooocus-MRE.git\n",
        "%cd /content/drive/MyDrive/ui-colab/Fooocus-MRE\n",
        "!cp settings-no-refiner.json settings.json\n",
        "!pip install pygit2==1.12.2\n",
        "%cd /content/drive/MyDrive/ui-colab/Fooocus-MRE\n",
        "!python entry_with_update.py --share"
      ]
    },
    {
      "cell_type": "code",
      "source": [
        "%cd /content\n",
        "!git clone https://github.com/MoonRide303/Fooocus-MRE.git\n",
        "%cd Fooocus-MRE\n",
        "!cp settings-no-refiner.json settings.json\n",
        "!pip install pygit2==1.12.2\n",
        "!python entry_with_update.py --share"
      ],
      "metadata": {
        "colab": {
          "base_uri": "https://localhost:8080/"
        },
        "id": "lso9XsHgL9dl",
        "outputId": "db19475e-8b25-4ff5-d3e0-b257414416da"
      },
      "execution_count": null,
      "outputs": [
        {
          "output_type": "stream",
          "name": "stdout",
          "text": [
            "/content\n",
            "Cloning into 'Fooocus-MRE'...\n",
            "remote: Enumerating objects: 6419, done.\u001b[K\n",
            "remote: Total 6419 (delta 0), reused 0 (delta 0), pack-reused 6419\u001b[K\n",
            "Receiving objects: 100% (6419/6419), 32.68 MiB | 17.26 MiB/s, done.\n",
            "Resolving deltas: 100% (3792/3792), done.\n",
            "/content/Fooocus-MRE\n",
            "Collecting pygit2==1.12.2\n",
            "  Downloading pygit2-1.12.2-cp310-cp310-manylinux_2_17_x86_64.manylinux2014_x86_64.whl (4.9 MB)\n",
            "\u001b[2K     \u001b[90m━━━━━━━━━━━━━━━━━━━━━━━━━━━━━━━━━━━━━━━━\u001b[0m \u001b[32m4.9/4.9 MB\u001b[0m \u001b[31m15.0 MB/s\u001b[0m eta \u001b[36m0:00:00\u001b[0m\n",
            "\u001b[?25hRequirement already satisfied: cffi>=1.9.1 in /usr/local/lib/python3.10/dist-packages (from pygit2==1.12.2) (1.16.0)\n",
            "Requirement already satisfied: pycparser in /usr/local/lib/python3.10/dist-packages (from cffi>=1.9.1->pygit2==1.12.2) (2.21)\n",
            "Installing collected packages: pygit2\n",
            "Successfully installed pygit2-1.12.2\n",
            "Already up-to-date\n",
            "Update succeeded.\n",
            "Python 3.10.12 (main, Nov 20 2023, 15:14:05) [GCC 11.4.0]\n",
            "Fooocus version: 2.0.78.5 MRE\n",
            "Inference Engine cloned.\n",
            "Inference Engine checkout finished.\n",
            "Installing xformers\n",
            "Installing requirements\n",
            "Downloading: \"https://huggingface.co/stabilityai/stable-diffusion-xl-base-1.0/resolve/main/sd_xl_base_1.0_0.9vae.safetensors\" to /content/Fooocus-MRE/models/checkpoints/sd_xl_base_1.0_0.9vae.safetensors\n",
            "\n",
            " 11% 730M/6.46G [00:03<00:28, 220MB/s]"
          ]
        }
      ]
    }
  ]
}